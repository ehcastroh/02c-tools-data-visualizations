{
 "cells": [
  {
   "cell_type": "markdown",
   "metadata": {},
   "source": [
    "![data-x](http://oi64.tinypic.com/o858n4.jpg)\n",
    "\n",
    "---\n",
    "# Breakout 2 - Plotting w Matplotlib\n",
    "\n",
    "**Author list:** Alexander Fred Ojala\n",
    "\n",
    "**Source:** AY250, UC Berkeley\n",
    "\n",
    "**License Agreement:** Feel free to do whatever you want with this code"
   ]
  },
  {
   "cell_type": "code",
   "execution_count": null,
   "metadata": {
    "collapsed": true
   },
   "outputs": [],
   "source": [
    "'''\n",
    "Download data from the link at https://data-x.blog/breakouts\n",
    "The data files are called: google_data.txt, ny_temps.txt & yahoo_data.txt,\n",
    "place them in a folder called \"data\" your working directory.\n",
    "'''"
   ]
  },
  {
   "cell_type": "code",
   "execution_count": 6,
   "metadata": {},
   "outputs": [
    {
     "name": "stdout",
     "output_type": "stream",
     "text": [
      "google_data.txt  ny_temps.txt     stocks.png       yahoo_data.txt\r\n"
     ]
    }
   ],
   "source": [
    "# You should have the following files in the data directory\n",
    "# \n",
    "%ls ./data"
   ]
  },
  {
   "cell_type": "code",
   "execution_count": 2,
   "metadata": {},
   "outputs": [],
   "source": [
    "'''\n",
    "Download data from the link at https://data-x.blog/breakouts\n",
    "The data files are called: google_data.txt, ny_temps.txt & yahoo_data.txt,\n",
    "place them in a folder called \"data\" your working directory.\n",
    "\n",
    "In order to obtain all the files directly you can clone the directory by opening the Terminal and running:\n",
    "\n",
    "\n",
    "'''\n",
    "import pandas as pd\n",
    "import numpy as np\n",
    "import matplotlib.pyplot as plt\n",
    "google_data = pd.read_csv('data/google_data.txt',sep=\"\\t\") # Note data seperator is a tab character (\\t)\n",
    "yahoo_data = pd.read_csv('data/yahoo_data.txt',sep=\"\\t\")\n",
    "ny_temps = pd.read_csv('data/ny_temps.txt',sep='\\t')"
   ]
  },
  {
   "cell_type": "markdown",
   "metadata": {},
   "source": [
    "<img src=\"stocks.png\">"
   ]
  }
 ],
 "metadata": {
  "anaconda-cloud": {},
  "kernelspec": {
   "display_name": "Python 3",
   "language": "python",
   "name": "python3"
  },
  "language_info": {
   "codemirror_mode": {
    "name": "ipython",
    "version": 3
   },
   "file_extension": ".py",
   "mimetype": "text/x-python",
   "name": "python",
   "nbconvert_exporter": "python",
   "pygments_lexer": "ipython3",
   "version": "3.6.1"
  }
 },
 "nbformat": 4,
 "nbformat_minor": 1
}
